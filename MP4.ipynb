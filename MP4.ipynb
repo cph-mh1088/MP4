{
 "cells": [
  {
   "cell_type": "markdown",
   "id": "65b2bd20",
   "metadata": {},
   "source": [
    "### MACHINE LEARNING FOR ANALYSIS AND PREDICTION OF ATTRITION"
   ]
  },
  {
   "cell_type": "markdown",
   "id": "64f7d459",
   "metadata": {},
   "source": [
    "**The objective of this mini project is to enable practice in data analysis and prediction by classification and\n",
    "clustering algorithms.**"
   ]
  },
  {
   "cell_type": "markdown",
   "id": "436fc91e",
   "metadata": {},
   "source": [
    "#### Problem Statement\n",
    "\n",
    "Attrition is the rate at which employees leave their job. When attrition reaches high levels, it becomes a\n",
    "concern for the company. Therefore, it is important to find out why employees leave, which factors contribute\n",
    "to such significant decision."
   ]
  },
  {
   "cell_type": "markdown",
   "id": "f69664e2",
   "metadata": {},
   "source": [
    "### Enviroment"
   ]
  },
  {
   "cell_type": "markdown",
   "id": "8e9b54f0",
   "metadata": {},
   "source": [
    "#### 1. Data wrangling and exploration\n",
    "\n",
    "- Load and explore the data, clean it, and analyse it by statistics\n",
    "- Select the most relevant features of an employee for machine learning operations on prediction of\n",
    "the attrition"
   ]
  },
  {
   "cell_type": "code",
   "execution_count": null,
   "id": "3794f791",
   "metadata": {},
   "outputs": [],
   "source": [
    "# data structure\n",
    "import pandas as pd\n",
    "\n",
    "# visualisation\n",
    "import seaborn as sns\n",
    "import matplotlib.pyplot as plt\n",
    "\n",
    "# sklearn for machine learning methods\n",
    "from sklearn import tree\n",
    "from sklearn import model_selection\n",
    "from sklearn.metrics import classification_report\n",
    "from sklearn.metrics import confusion_matrix\n",
    "from sklearn.metrics import accuracy_score\n",
    "from sklearn.tree import DecisionTreeClassifier\n",
    "from sklearn.ensemble import RandomForestClassifier\n",
    "from sklearn.naive_bayes import GaussianNB\n",
    "from sklearn.cluster import KMeans\n",
    "from sklearn import metrics\n",
    "from sklearn.metrics import silhouette_score\n",
    "from scipy.spatial.distance import cdist\n",
    "\n",
    "\n",
    "# for numeric calculations\n",
    "import numpy as np"
   ]
  },
  {
   "cell_type": "code",
   "execution_count": null,
   "id": "a039b161",
   "metadata": {},
   "outputs": [],
   "source": [
    "df = pd.read_excel('WA_Fn-UseC_-HR-Employee-Attrition.xlsx')"
   ]
  },
  {
   "cell_type": "code",
   "execution_count": null,
   "id": "a5853a0a",
   "metadata": {},
   "outputs": [],
   "source": [
    "# view df size\n",
    "df.shape"
   ]
  },
  {
   "cell_type": "code",
   "execution_count": null,
   "id": "07710d37",
   "metadata": {},
   "outputs": [],
   "source": [
    "# view df\n",
    "df"
   ]
  },
  {
   "cell_type": "code",
   "execution_count": null,
   "id": "1405a893",
   "metadata": {},
   "outputs": [],
   "source": [
    "# get an overview missing values and data types\n",
    "df.info()"
   ]
  },
  {
   "cell_type": "code",
   "execution_count": null,
   "id": "b5369f6f",
   "metadata": {},
   "outputs": [],
   "source": [
    "# view amount of uniqie values of object data type\n",
    "df.select_dtypes(include='object').nunique()"
   ]
  },
  {
   "cell_type": "code",
   "execution_count": null,
   "id": "a60e859a",
   "metadata": {},
   "outputs": [],
   "source": [
    "# map each non-numeric value to numeric values\n",
    "column_mappings = {\n",
    "    'Attrition': {'No': 0, 'Yes': 1},\n",
    "    'BusinessTravel': {'Non-Travel': 0, 'Travel_Rarely': 1, 'Travel_Frequently': 2},\n",
    "    'Department': {'Human Resources': 0, 'Research & Development': 1, 'Sales': 2},\n",
    "    'EducationField': {'Life Sciences': 0, 'Other': 1, 'Medical': 2, 'Marketing': 3, 'Technical Degree': 4, 'Human Resources': 5},\n",
    "    'Gender': {'Male': 0, 'Female': 1},\n",
    "    'JobRole': {'Sales Executive': 0, 'Research Scientist': 1, 'Laboratory Technician': 2, 'Manufacturing Director': 3, 'Healthcare Representative': 4, 'Manager': 5, 'Sales Representative': 6, 'Research Director': 7, 'Human Resources': 8},\n",
    "    'MaritalStatus': {'Single': 0, 'Married': 1, 'Divorced': 2},\n",
    "    'Over18': {'Y': 1},\n",
    "    'OverTime': {'No': 0, 'Yes': 1}\n",
    "}\n",
    "\n",
    "df.replace(column_mappings, inplace=True)\n",
    "df"
   ]
  },
  {
   "cell_type": "code",
   "execution_count": null,
   "id": "8c711816",
   "metadata": {},
   "outputs": [],
   "source": [
    "df.describe()"
   ]
  },
  {
   "cell_type": "code",
   "execution_count": null,
   "id": "087c24b6",
   "metadata": {
    "scrolled": true
   },
   "outputs": [],
   "source": [
    "# correlation between attrition and other features\n",
    "correlation_matrix = df.corr()\n",
    "correlation_with_attrition = correlation_matrix['Attrition'].sort_values(ascending=False)\n",
    "\n",
    "# heatmap \n",
    "plt.figure(figsize=(5, 10))\n",
    "sns.heatmap(pd.DataFrame(correlation_with_attrition), annot=True, cmap='coolwarm', fmt=\".2f\", cbar=False)\n",
    "plt.title('Correlation with attrition')\n",
    "plt.show()"
   ]
  },
  {
   "cell_type": "markdown",
   "id": "801128cb",
   "metadata": {},
   "source": [
    "#### Prepare the data for training"
   ]
  },
  {
   "cell_type": "markdown",
   "id": "87834dc2",
   "metadata": {},
   "source": [
    "#### Data split "
   ]
  },
  {
   "cell_type": "markdown",
   "id": "d0b4db58",
   "metadata": {},
   "source": [
    "- y is our target the value (the value we wanna try to predict)\n",
    "- X is our feature matrix (the data we use to try an predict our target value)"
   ]
  },
  {
   "cell_type": "code",
   "execution_count": null,
   "id": "2aeba3fa",
   "metadata": {},
   "outputs": [],
   "source": [
    "# define X and y\n",
    "X = df[['OverTime', 'BusinessTravel', 'TotalWorkingYears', 'MaritalStatus', 'YearsInCurrentRole']].values\n",
    "y = df['Attrition'].values"
   ]
  },
  {
   "cell_type": "code",
   "execution_count": null,
   "id": "c161fe30",
   "metadata": {},
   "outputs": [],
   "source": [
    "# split 80/20\n",
    "X_train, X_test, y_train, y_test = model_selection.train_test_split(X, y, test_size=0.2, random_state=42)"
   ]
  },
  {
   "cell_type": "markdown",
   "id": "cb34febb",
   "metadata": {},
   "source": [
    "#### Training the model (Decision Tree)"
   ]
  },
  {
   "cell_type": "code",
   "execution_count": null,
   "id": "a0315bbf",
   "metadata": {},
   "outputs": [],
   "source": [
    "# initialize decision tree\n",
    "model = DecisionTreeClassifier(random_state=42)\n",
    "\n",
    "model.fit(X_train, y_train)"
   ]
  },
  {
   "cell_type": "code",
   "execution_count": null,
   "id": "0eb655a2",
   "metadata": {},
   "outputs": [],
   "source": [
    "# Install the graphviz package\n",
    "#!pip install graphviz"
   ]
  },
  {
   "cell_type": "code",
   "execution_count": null,
   "id": "3f39e0ab",
   "metadata": {},
   "outputs": [],
   "source": [
    "import graphviz\n",
    "from sklearn.tree import export_graphviz\n",
    "\n",
    "# draw tree \n",
    "gr_data = export_graphviz(model, out_file=None, \n",
    "                          feature_names=['OverTime', 'BusinessTravel', 'TotalWorkingYears', 'MaritalStatus', 'YearsInCurrentRole'],\n",
    "                          class_names=True, filled=True, rounded=True, proportion=False, special_characters=True)  \n",
    "\n",
    "dtree = graphviz.Source(gr_data)\n",
    "\n",
    "dtree.render(\"decision_tree\")  # Optionally save the tree to a file"
   ]
  },
  {
   "cell_type": "code",
   "execution_count": null,
   "id": "9e549e5b",
   "metadata": {},
   "outputs": [],
   "source": [
    "# view tree\n",
    "dtree "
   ]
  },
  {
   "cell_type": "markdown",
   "id": "dc0e6823",
   "metadata": {},
   "source": [
    "### Model Validation"
   ]
  },
  {
   "cell_type": "markdown",
   "id": "3446103a",
   "metadata": {},
   "source": [
    "We need a metrics for the evaluation. ‘accuracy‘ is the percentage % of correctly predicted instances from the total number of instances in the dataset."
   ]
  },
  {
   "cell_type": "markdown",
   "id": "6eeace1b",
   "metadata": {},
   "source": [
    "#### Now we can try to implement the model on our test set.\n",
    "\n"
   ]
  },
  {
   "cell_type": "code",
   "execution_count": null,
   "id": "6517bb53",
   "metadata": {},
   "outputs": [],
   "source": [
    "y_pred = model.predict(X_test)\n",
    "y_pred"
   ]
  },
  {
   "cell_type": "markdown",
   "id": "35fd88ee",
   "metadata": {},
   "source": [
    "#### Predict test data"
   ]
  },
  {
   "cell_type": "code",
   "execution_count": null,
   "id": "7ca72d62",
   "metadata": {},
   "outputs": [],
   "source": [
    "accuracy = accuracy_score(y_test, y_pred)\n",
    "print(\"Accuracy:\", accuracy)"
   ]
  },
  {
   "cell_type": "markdown",
   "id": "1758eaae",
   "metadata": {},
   "source": [
    "#### Confusion matrix"
   ]
  },
  {
   "cell_type": "code",
   "execution_count": null,
   "id": "f488dc3a",
   "metadata": {},
   "outputs": [],
   "source": [
    "# confusion matrix\n",
    "confusion_mat = confusion_matrix(y_test,y_pred)\n",
    "confusion_mat"
   ]
  },
  {
   "cell_type": "code",
   "execution_count": null,
   "id": "1c9c9a1a",
   "metadata": {},
   "outputs": [],
   "source": [
    "pd.crosstab(y_test,y_pred)"
   ]
  },
  {
   "cell_type": "markdown",
   "id": "32c3f4ab",
   "metadata": {},
   "source": [
    "               | Predicted Negative | Predicted Positive |\n",
    "\n",
    "    Actual Negative|       TN            |        FP           |\n",
    "\n",
    "              \n",
    "    Actual Positive|       FN            |        TP           |"
   ]
  },
  {
   "cell_type": "markdown",
   "id": "a59c1e57",
   "metadata": {},
   "source": [
    "Here is a quick summarization: \n",
    "\n",
    "- Of the 255 0's (attrition = no) the model predicited 223 correct and 32 wrong. \n",
    "- Of the 31 1's (attrintion = yes) the model predicited 27 true and 12 wrong. "
   ]
  },
  {
   "cell_type": "code",
   "execution_count": null,
   "id": "73ef0f54",
   "metadata": {},
   "outputs": [],
   "source": [
    "# visualize confusion matrix\n",
    "plt.imshow(confusion_mat, interpolation='nearest')\n",
    "plt.title('Confusion matrix')\n",
    "plt.colorbar()\n",
    "ticks = np.arange(2)\n",
    "plt.xticks(ticks, ticks)\n",
    "plt.yticks(ticks, ticks)\n",
    "plt.ylabel('True labels')\n",
    "plt.xlabel('Predicted labels')\n",
    "plt.show()"
   ]
  },
  {
   "cell_type": "markdown",
   "id": "5cc1b11f",
   "metadata": {},
   "source": [
    "#### Compare scores for Train and Test data"
   ]
  },
  {
   "cell_type": "code",
   "execution_count": null,
   "id": "ceaf1d41",
   "metadata": {},
   "outputs": [],
   "source": [
    "class_names = ['Not Attrition', 'Attrition']\n",
    "\n",
    "# classifier performance on training dataset\n",
    "print(\"Classification Report - Training Data:\")\n",
    "print(classification_report(y_train, model.predict(X_train), target_names=class_names))\n",
    "plt.show()\n",
    "\n",
    "# classifier performance on test dataset\n",
    "print(\"Classification Report - Test Data:\")\n",
    "print(classification_report(y_test, model.predict(X_test), target_names=class_names))\n",
    "plt.show()"
   ]
  },
  {
   "cell_type": "markdown",
   "id": "6bdc212b",
   "metadata": {},
   "source": [
    "### Naive Bayes"
   ]
  },
  {
   "cell_type": "code",
   "execution_count": null,
   "id": "aaef5d69",
   "metadata": {},
   "outputs": [],
   "source": [
    "# define X and y directly from DataFrame\n",
    "X = df[['OverTime', 'BusinessTravel', 'TotalWorkingYears', 'MaritalStatus', 'YearsInCurrentRole']].values\n",
    "y = df['Attrition'].values"
   ]
  },
  {
   "cell_type": "code",
   "execution_count": null,
   "id": "83edeb72",
   "metadata": {},
   "outputs": [],
   "source": [
    "# split 80/20\n",
    "X_train, X_test, y_train, y_test = model_selection.train_test_split(X, y, test_size=0.2, random_state=42)"
   ]
  },
  {
   "cell_type": "markdown",
   "id": "0d30f05c",
   "metadata": {},
   "source": [
    "We are ready to apply algorithms for training a model from our data. We try Gaussian Naive Bayes (NB), as it is appropriate for analysis of numeric data."
   ]
  },
  {
   "cell_type": "code",
   "execution_count": null,
   "id": "8c64afdc",
   "metadata": {},
   "outputs": [],
   "source": [
    "# build the model from the train\n",
    "model = GaussianNB()\n",
    "model.fit(X_train, y_train)"
   ]
  },
  {
   "cell_type": "code",
   "execution_count": null,
   "id": "a2fdd6f1",
   "metadata": {},
   "outputs": [],
   "source": [
    "# test the model on the test set\n",
    "model.score(X_test, y_test)"
   ]
  },
  {
   "cell_type": "markdown",
   "id": "61dbca82",
   "metadata": {},
   "source": [
    " #### Validating the Model"
   ]
  },
  {
   "cell_type": "code",
   "execution_count": null,
   "id": "5b1461df",
   "metadata": {},
   "outputs": [],
   "source": [
    "X_test"
   ]
  },
  {
   "cell_type": "code",
   "execution_count": null,
   "id": "33a3d3dc",
   "metadata": {},
   "outputs": [],
   "source": [
    "# Test on the test data, try prediction\n",
    "prediction = model.predict(X_test)\n",
    "prediction"
   ]
  },
  {
   "cell_type": "code",
   "execution_count": null,
   "id": "08ea185e",
   "metadata": {},
   "outputs": [],
   "source": [
    "prediction.shape"
   ]
  },
  {
   "cell_type": "markdown",
   "id": "1898fcb3",
   "metadata": {},
   "source": [
    "Estimate the Accuracy\n"
   ]
  },
  {
   "cell_type": "code",
   "execution_count": null,
   "id": "a3c81391",
   "metadata": {},
   "outputs": [],
   "source": [
    "# Calculated accuracy of the model over the validation set\n",
    "print(accuracy_score(y_test, prediction))"
   ]
  },
  {
   "cell_type": "code",
   "execution_count": null,
   "id": "a039176f",
   "metadata": {},
   "outputs": [],
   "source": [
    "# Classification report provides a breakdown of each class by precision, recall, f1-score and support\n",
    "cmat = confusion_matrix(y_test, prediction)\n",
    "print(cmat)\n",
    "print(classification_report(y_test, prediction))"
   ]
  },
  {
   "cell_type": "code",
   "execution_count": null,
   "id": "4770a34e",
   "metadata": {},
   "outputs": [],
   "source": [
    "sns.set()\n",
    "sns.heatmap(cmat, annot=True, fmt='d', cmap='Blues', xticklabels=class_names, yticklabels=class_names)\n",
    "plt.xlabel('Actual')\n",
    "plt.ylabel('Predicted')\n",
    "plt.show()"
   ]
  },
  {
   "cell_type": "code",
   "execution_count": null,
   "id": "393a39a5",
   "metadata": {},
   "outputs": [],
   "source": [
    "class_names = ['Not Attrition', 'Attrition']\n",
    "\n",
    "# classifier performance on training dataset\n",
    "print(\"\\nClassifier performance on training dataset\\n\")\n",
    "print(classification_report(y_train, model.predict(X_train), target_names=class_names))\n",
    "\n",
    "# classifier performance on test dataset\n",
    "print(\"\\nClassifier performance on test dataset\\n\")\n",
    "print(classification_report(y_test, model.predict(X_test), target_names=class_names))"
   ]
  },
  {
   "cell_type": "markdown",
   "id": "ba7517f9",
   "metadata": {},
   "source": [
    "### Models with the highest accuracy apears to be Naive Bayes"
   ]
  },
  {
   "cell_type": "markdown",
   "id": "266602da",
   "metadata": {},
   "source": [
    "### Unsupervised Machine Learning by K-Means Algorithm"
   ]
  },
  {
   "cell_type": "markdown",
   "id": "dc484c6b",
   "metadata": {},
   "source": [
    "#### 3. Unsupervised machine learning: clustering\n",
    "- apply at least one clustering algorithm (e.g. K-Means) for segmentation of the employees in groups of\n",
    "similarity\n",
    "- evaluate the quality of the clustering by calculating a silhouette score and recommend the cluster\n",
    "configuration with higher score"
   ]
  },
  {
   "cell_type": "code",
   "execution_count": null,
   "id": "c5b9ef47",
   "metadata": {},
   "outputs": [],
   "source": []
  },
  {
   "cell_type": "code",
   "execution_count": null,
   "id": "9fa769f6",
   "metadata": {},
   "outputs": [],
   "source": []
  },
  {
   "cell_type": "code",
   "execution_count": null,
   "id": "b8c12580",
   "metadata": {},
   "outputs": [],
   "source": []
  },
  {
   "cell_type": "markdown",
   "id": "b9fb615a",
   "metadata": {},
   "source": [
    "#### 2. Supervised machine learning: classification\n",
    "\n",
    "- train, test, and validate two machine learning models for classification and prediction of attrition (e.g.\n",
    "Decision Tree and Naïve Bayes)\n",
    "- apply appropriate methods and measures for assessing the validity of the models and recommend the\n",
    "one with highest accuracy"
   ]
  },
  {
   "cell_type": "markdown",
   "id": "44bda9d4",
   "metadata": {},
   "source": [
    "#### Determine K by Elbow Method\n"
   ]
  },
  {
   "cell_type": "markdown",
   "id": "105ddd94",
   "metadata": {},
   "source": [
    "I want to the find the optimal amount of clusters by using the the elbow method. K stands for the number of clusters"
   ]
  },
  {
   "cell_type": "code",
   "execution_count": null,
   "id": "d28202ab",
   "metadata": {},
   "outputs": [],
   "source": [
    "# Determine k by minimizing the distortion - \n",
    "# the sum of the squared distances between each observation vector and its centroid\n",
    "distortions = []\n",
    "K = range(2,10)\n",
    "for k in K:\n",
    "    model = KMeans(n_clusters=k, n_init=10).fit(X)\n",
    "    model.fit(X)\n",
    "    distortions.append(sum(np.min(cdist(X, model.cluster_centers_, 'euclidean'), axis=1)) / X.shape[0]) \n",
    "print(\"Distortion: \", distortions)"
   ]
  },
  {
   "cell_type": "code",
   "execution_count": null,
   "id": "ab247fac",
   "metadata": {},
   "outputs": [],
   "source": []
  },
  {
   "cell_type": "markdown",
   "id": "8a40c705",
   "metadata": {},
   "source": [
    "Distortion measures the average distance between each data point and the centroid in the cluster.\n",
    "In our data, it looks like the distortion falls when the number of clusters (K) increases. The goal is to find the point where further increase of K does not result in a noticeable improvement of distortion. This is the elbow point."
   ]
  },
  {
   "cell_type": "code",
   "execution_count": null,
   "id": "52f93e9f",
   "metadata": {},
   "outputs": [],
   "source": [
    "# Plot the distortion to discover the elbow\n",
    "plt.title('Elbow Method for Optimal K')\n",
    "plt.plot(K, distortions, 'bx-')\n",
    "plt.xlabel('K')\n",
    "plt.ylabel('Distortion')\n",
    "plt.show()"
   ]
  },
  {
   "cell_type": "code",
   "execution_count": null,
   "id": "c47d379c",
   "metadata": {},
   "outputs": [],
   "source": [
    " "
   ]
  },
  {
   "cell_type": "code",
   "execution_count": null,
   "id": "65845da2",
   "metadata": {},
   "outputs": [],
   "source": []
  },
  {
   "cell_type": "code",
   "execution_count": null,
   "id": "2e02dd2e",
   "metadata": {},
   "outputs": [],
   "source": []
  },
  {
   "cell_type": "code",
   "execution_count": null,
   "id": "1e338564",
   "metadata": {},
   "outputs": [],
   "source": []
  },
  {
   "cell_type": "code",
   "execution_count": null,
   "id": "2fe09b10",
   "metadata": {},
   "outputs": [],
   "source": []
  },
  {
   "cell_type": "code",
   "execution_count": null,
   "id": "6825bb51",
   "metadata": {},
   "outputs": [],
   "source": []
  },
  {
   "cell_type": "code",
   "execution_count": null,
   "id": "81957a48",
   "metadata": {},
   "outputs": [],
   "source": []
  },
  {
   "cell_type": "code",
   "execution_count": null,
   "id": "66315cdb",
   "metadata": {},
   "outputs": [],
   "source": []
  },
  {
   "cell_type": "code",
   "execution_count": null,
   "id": "156c76d2",
   "metadata": {},
   "outputs": [],
   "source": []
  },
  {
   "cell_type": "markdown",
   "id": "1b6be04e",
   "metadata": {},
   "source": [
    "#### 4. Machine Learning application\n",
    "- create and deploy on the localhost an interactive prototype of Streamlit application, visualizing stages\n",
    "and results of your work\n",
    "- enable input of user data and making predictions on attrition by use of the classification model,\n",
    "created in p.2 above.\n",
    "- test the application with various previously unknown input data and record the results."
   ]
  },
  {
   "cell_type": "markdown",
   "id": "2e8b3a43",
   "metadata": {},
   "source": [
    "\n",
    "\n",
    "Submit a link to the Github repository of your solution, where in the readme file provide answers of the\n",
    "following questions:\n",
    "    \n",
    "\n",
    "- Which machine learning methods did you choose to apply in the application?\n",
    "- How accurate is your solution of prediction?\n",
    "- Which are the most decisive factors for quitting a job?\n",
    "- Which work positions and departments are in higher risk of losing employees?\n",
    "- Are employees of different gender paid equally in all departments?\n",
    "- Do the family status and the distance from work influence the work-life balance?\n",
    "- Does education make people happy (satisfied from the work)?\n",
    "- Which were the challenges in the project development?"
   ]
  },
  {
   "cell_type": "code",
   "execution_count": null,
   "id": "3bc844d3",
   "metadata": {},
   "outputs": [],
   "source": []
  }
 ],
 "metadata": {
  "kernelspec": {
   "display_name": "Python 3 (ipykernel)",
   "language": "python",
   "name": "python3"
  },
  "language_info": {
   "codemirror_mode": {
    "name": "ipython",
    "version": 3
   },
   "file_extension": ".py",
   "mimetype": "text/x-python",
   "name": "python",
   "nbconvert_exporter": "python",
   "pygments_lexer": "ipython3",
   "version": "3.11.5"
  }
 },
 "nbformat": 4,
 "nbformat_minor": 5
}
